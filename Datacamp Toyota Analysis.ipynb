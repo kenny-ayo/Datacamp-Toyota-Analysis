{
 "cells": [
  {
   "cell_type": "code",
   "execution_count": 1,
   "id": "f055e246",
   "metadata": {},
   "outputs": [],
   "source": [
    "import pandas as pd\n",
    "import numpy as np\n",
    "import matplotlib.pyplot as plt\n",
    "\n",
    "\n",
    "ty = pd.read_csv('toyota.csv')"
   ]
  },
  {
   "cell_type": "code",
   "execution_count": 2,
   "id": "9f989538",
   "metadata": {},
   "outputs": [
    {
     "data": {
      "text/html": [
       "<div>\n",
       "<style scoped>\n",
       "    .dataframe tbody tr th:only-of-type {\n",
       "        vertical-align: middle;\n",
       "    }\n",
       "\n",
       "    .dataframe tbody tr th {\n",
       "        vertical-align: top;\n",
       "    }\n",
       "\n",
       "    .dataframe thead th {\n",
       "        text-align: right;\n",
       "    }\n",
       "</style>\n",
       "<table border=\"1\" class=\"dataframe\">\n",
       "  <thead>\n",
       "    <tr style=\"text-align: right;\">\n",
       "      <th></th>\n",
       "      <th>model</th>\n",
       "      <th>year</th>\n",
       "      <th>price</th>\n",
       "      <th>transmission</th>\n",
       "      <th>mileage</th>\n",
       "      <th>fuelType</th>\n",
       "      <th>tax</th>\n",
       "      <th>mpg</th>\n",
       "      <th>engineSize</th>\n",
       "    </tr>\n",
       "  </thead>\n",
       "  <tbody>\n",
       "    <tr>\n",
       "      <th>0</th>\n",
       "      <td>GT86</td>\n",
       "      <td>2016</td>\n",
       "      <td>16000</td>\n",
       "      <td>Manual</td>\n",
       "      <td>24089</td>\n",
       "      <td>Petrol</td>\n",
       "      <td>265</td>\n",
       "      <td>36.2</td>\n",
       "      <td>2.0</td>\n",
       "    </tr>\n",
       "    <tr>\n",
       "      <th>1</th>\n",
       "      <td>GT86</td>\n",
       "      <td>2017</td>\n",
       "      <td>15995</td>\n",
       "      <td>Manual</td>\n",
       "      <td>18615</td>\n",
       "      <td>Petrol</td>\n",
       "      <td>145</td>\n",
       "      <td>36.2</td>\n",
       "      <td>2.0</td>\n",
       "    </tr>\n",
       "    <tr>\n",
       "      <th>2</th>\n",
       "      <td>GT86</td>\n",
       "      <td>2015</td>\n",
       "      <td>13998</td>\n",
       "      <td>Manual</td>\n",
       "      <td>27469</td>\n",
       "      <td>Petrol</td>\n",
       "      <td>265</td>\n",
       "      <td>36.2</td>\n",
       "      <td>2.0</td>\n",
       "    </tr>\n",
       "    <tr>\n",
       "      <th>3</th>\n",
       "      <td>GT86</td>\n",
       "      <td>2017</td>\n",
       "      <td>18998</td>\n",
       "      <td>Manual</td>\n",
       "      <td>14736</td>\n",
       "      <td>Petrol</td>\n",
       "      <td>150</td>\n",
       "      <td>36.2</td>\n",
       "      <td>2.0</td>\n",
       "    </tr>\n",
       "    <tr>\n",
       "      <th>4</th>\n",
       "      <td>GT86</td>\n",
       "      <td>2017</td>\n",
       "      <td>17498</td>\n",
       "      <td>Manual</td>\n",
       "      <td>36284</td>\n",
       "      <td>Petrol</td>\n",
       "      <td>145</td>\n",
       "      <td>36.2</td>\n",
       "      <td>2.0</td>\n",
       "    </tr>\n",
       "  </tbody>\n",
       "</table>\n",
       "</div>"
      ],
      "text/plain": [
       "   model  year  price transmission  mileage fuelType  tax   mpg  engineSize\n",
       "0   GT86  2016  16000       Manual    24089   Petrol  265  36.2         2.0\n",
       "1   GT86  2017  15995       Manual    18615   Petrol  145  36.2         2.0\n",
       "2   GT86  2015  13998       Manual    27469   Petrol  265  36.2         2.0\n",
       "3   GT86  2017  18998       Manual    14736   Petrol  150  36.2         2.0\n",
       "4   GT86  2017  17498       Manual    36284   Petrol  145  36.2         2.0"
      ]
     },
     "execution_count": 2,
     "metadata": {},
     "output_type": "execute_result"
    }
   ],
   "source": [
    "ty.head()"
   ]
  },
  {
   "cell_type": "markdown",
   "id": "1ea2b3ee",
   "metadata": {},
   "source": [
    "**Check for any null values or missing values**"
   ]
  },
  {
   "cell_type": "code",
   "execution_count": 3,
   "id": "60193344",
   "metadata": {},
   "outputs": [
    {
     "name": "stdout",
     "output_type": "stream",
     "text": [
      "<class 'pandas.core.frame.DataFrame'>\n",
      "RangeIndex: 6738 entries, 0 to 6737\n",
      "Data columns (total 9 columns):\n",
      " #   Column        Non-Null Count  Dtype  \n",
      "---  ------        --------------  -----  \n",
      " 0   model         6738 non-null   object \n",
      " 1   year          6738 non-null   int64  \n",
      " 2   price         6738 non-null   int64  \n",
      " 3   transmission  6738 non-null   object \n",
      " 4   mileage       6738 non-null   int64  \n",
      " 5   fuelType      6738 non-null   object \n",
      " 6   tax           6738 non-null   int64  \n",
      " 7   mpg           6738 non-null   float64\n",
      " 8   engineSize    6738 non-null   float64\n",
      "dtypes: float64(2), int64(4), object(3)\n",
      "memory usage: 473.9+ KB\n"
     ]
    }
   ],
   "source": [
    "ty.info()"
   ]
  },
  {
   "cell_type": "code",
   "execution_count": 4,
   "id": "deccaade",
   "metadata": {},
   "outputs": [
    {
     "data": {
      "text/html": [
       "<div>\n",
       "<style scoped>\n",
       "    .dataframe tbody tr th:only-of-type {\n",
       "        vertical-align: middle;\n",
       "    }\n",
       "\n",
       "    .dataframe tbody tr th {\n",
       "        vertical-align: top;\n",
       "    }\n",
       "\n",
       "    .dataframe thead th {\n",
       "        text-align: right;\n",
       "    }\n",
       "</style>\n",
       "<table border=\"1\" class=\"dataframe\">\n",
       "  <thead>\n",
       "    <tr style=\"text-align: right;\">\n",
       "      <th></th>\n",
       "      <th>year</th>\n",
       "      <th>price</th>\n",
       "      <th>mileage</th>\n",
       "      <th>tax</th>\n",
       "      <th>mpg</th>\n",
       "      <th>engineSize</th>\n",
       "    </tr>\n",
       "  </thead>\n",
       "  <tbody>\n",
       "    <tr>\n",
       "      <th>count</th>\n",
       "      <td>6738.000000</td>\n",
       "      <td>6738.000000</td>\n",
       "      <td>6738.000000</td>\n",
       "      <td>6738.000000</td>\n",
       "      <td>6738.000000</td>\n",
       "      <td>6738.000000</td>\n",
       "    </tr>\n",
       "    <tr>\n",
       "      <th>mean</th>\n",
       "      <td>2016.748145</td>\n",
       "      <td>12522.391066</td>\n",
       "      <td>22857.413921</td>\n",
       "      <td>94.697240</td>\n",
       "      <td>63.042223</td>\n",
       "      <td>1.471297</td>\n",
       "    </tr>\n",
       "    <tr>\n",
       "      <th>std</th>\n",
       "      <td>2.204062</td>\n",
       "      <td>6345.017587</td>\n",
       "      <td>19125.464147</td>\n",
       "      <td>73.880776</td>\n",
       "      <td>15.836710</td>\n",
       "      <td>0.436159</td>\n",
       "    </tr>\n",
       "    <tr>\n",
       "      <th>min</th>\n",
       "      <td>1998.000000</td>\n",
       "      <td>850.000000</td>\n",
       "      <td>2.000000</td>\n",
       "      <td>0.000000</td>\n",
       "      <td>2.800000</td>\n",
       "      <td>0.000000</td>\n",
       "    </tr>\n",
       "    <tr>\n",
       "      <th>25%</th>\n",
       "      <td>2016.000000</td>\n",
       "      <td>8290.000000</td>\n",
       "      <td>9446.000000</td>\n",
       "      <td>0.000000</td>\n",
       "      <td>55.400000</td>\n",
       "      <td>1.000000</td>\n",
       "    </tr>\n",
       "    <tr>\n",
       "      <th>50%</th>\n",
       "      <td>2017.000000</td>\n",
       "      <td>10795.000000</td>\n",
       "      <td>18513.000000</td>\n",
       "      <td>135.000000</td>\n",
       "      <td>62.800000</td>\n",
       "      <td>1.500000</td>\n",
       "    </tr>\n",
       "    <tr>\n",
       "      <th>75%</th>\n",
       "      <td>2018.000000</td>\n",
       "      <td>14995.000000</td>\n",
       "      <td>31063.750000</td>\n",
       "      <td>145.000000</td>\n",
       "      <td>69.000000</td>\n",
       "      <td>1.800000</td>\n",
       "    </tr>\n",
       "    <tr>\n",
       "      <th>max</th>\n",
       "      <td>2020.000000</td>\n",
       "      <td>59995.000000</td>\n",
       "      <td>174419.000000</td>\n",
       "      <td>565.000000</td>\n",
       "      <td>235.000000</td>\n",
       "      <td>4.500000</td>\n",
       "    </tr>\n",
       "  </tbody>\n",
       "</table>\n",
       "</div>"
      ],
      "text/plain": [
       "              year         price        mileage          tax          mpg  \\\n",
       "count  6738.000000   6738.000000    6738.000000  6738.000000  6738.000000   \n",
       "mean   2016.748145  12522.391066   22857.413921    94.697240    63.042223   \n",
       "std       2.204062   6345.017587   19125.464147    73.880776    15.836710   \n",
       "min    1998.000000    850.000000       2.000000     0.000000     2.800000   \n",
       "25%    2016.000000   8290.000000    9446.000000     0.000000    55.400000   \n",
       "50%    2017.000000  10795.000000   18513.000000   135.000000    62.800000   \n",
       "75%    2018.000000  14995.000000   31063.750000   145.000000    69.000000   \n",
       "max    2020.000000  59995.000000  174419.000000   565.000000   235.000000   \n",
       "\n",
       "        engineSize  \n",
       "count  6738.000000  \n",
       "mean      1.471297  \n",
       "std       0.436159  \n",
       "min       0.000000  \n",
       "25%       1.000000  \n",
       "50%       1.500000  \n",
       "75%       1.800000  \n",
       "max       4.500000  "
      ]
     },
     "execution_count": 4,
     "metadata": {},
     "output_type": "execute_result"
    }
   ],
   "source": [
    "ty.describe()"
   ]
  },
  {
   "cell_type": "code",
   "execution_count": 5,
   "id": "662b251d",
   "metadata": {},
   "outputs": [
    {
     "data": {
      "text/plain": [
       "(6738, 9)"
      ]
     },
     "execution_count": 5,
     "metadata": {},
     "output_type": "execute_result"
    }
   ],
   "source": [
    "ty.shape"
   ]
  },
  {
   "cell_type": "markdown",
   "id": "c5e6ef4b",
   "metadata": {},
   "source": [
    "This data contains 6738 rows, 9 columns and no null values"
   ]
  },
  {
   "cell_type": "markdown",
   "id": "b14bb1ab",
   "metadata": {},
   "source": [
    "**Check for duplicates**"
   ]
  },
  {
   "cell_type": "code",
   "execution_count": 6,
   "id": "eb248a29",
   "metadata": {},
   "outputs": [
    {
     "data": {
      "text/plain": [
       "0       False\n",
       "1       False\n",
       "2       False\n",
       "3       False\n",
       "4       False\n",
       "        ...  \n",
       "6733    False\n",
       "6734    False\n",
       "6735    False\n",
       "6736    False\n",
       "6737    False\n",
       "Length: 6738, dtype: bool"
      ]
     },
     "execution_count": 6,
     "metadata": {},
     "output_type": "execute_result"
    }
   ],
   "source": [
    "ty.duplicated()\n",
    "\n",
    "# No duplicates found"
   ]
  },
  {
   "cell_type": "markdown",
   "id": "812573b5",
   "metadata": {},
   "source": [
    "After data validation, the dataset contains 6738 rows and 9 columns without missing values and the data needed no cleaning."
   ]
  },
  {
   "cell_type": "code",
   "execution_count": 7,
   "id": "097a1c0b",
   "metadata": {},
   "outputs": [
    {
     "name": "stdout",
     "output_type": "stream",
     "text": [
      "               model  year  price transmission  mileage fuelType  tax   mpg  \\\n",
      "0               GT86  2016  16000       Manual    24089   Petrol  265  36.2   \n",
      "1               GT86  2017  15995       Manual    18615   Petrol  145  36.2   \n",
      "2               GT86  2015  13998       Manual    27469   Petrol  265  36.2   \n",
      "3               GT86  2017  18998       Manual    14736   Petrol  150  36.2   \n",
      "4               GT86  2017  17498       Manual    36284   Petrol  145  36.2   \n",
      "...              ...   ...    ...          ...      ...      ...  ...   ...   \n",
      "6733              IQ  2011   5500    Automatic    30000   Petrol   20  58.9   \n",
      "6734   Urban Cruiser  2011   4985       Manual    36154   Petrol  125  50.4   \n",
      "6735   Urban Cruiser  2012   4995       Manual    46000   Diesel  125  57.6   \n",
      "6736   Urban Cruiser  2011   3995       Manual    60700   Petrol  125  50.4   \n",
      "6737   Urban Cruiser  2011   4495       Manual    45128   Petrol  125  50.4   \n",
      "\n",
      "      engineSize  index  \n",
      "0            2.0      0  \n",
      "1            2.0      1  \n",
      "2            2.0      2  \n",
      "3            2.0      3  \n",
      "4            2.0      4  \n",
      "...          ...    ...  \n",
      "6733         1.0   6733  \n",
      "6734         1.3   6734  \n",
      "6735         1.4   6735  \n",
      "6736         1.3   6736  \n",
      "6737         1.3   6737  \n",
      "\n",
      "[6738 rows x 10 columns]\n"
     ]
    }
   ],
   "source": [
    "#create a index column for easier count of sales\n",
    "\n",
    "ty['index'] = ty.index\n",
    "print(ty)"
   ]
  },
  {
   "cell_type": "markdown",
   "id": "47d79a6d",
   "metadata": {},
   "source": [
    "**How the sales differ between hybrid and other types**\n",
    "\n",
    "According to an email sent by the marketing team, the team wants to know how sales differ between hybrids and other fuel types.  The chart below, based on data from the last six months, shows a 31% difference in sales between petrol and hybrid car models, implying that the number of petrol-fueled cars sold is twice that of hybrid cars."
   ]
  },
  {
   "cell_type": "code",
   "execution_count": 8,
   "id": "cc970623",
   "metadata": {},
   "outputs": [
    {
     "data": {
      "text/html": [
       "<div>\n",
       "<style scoped>\n",
       "    .dataframe tbody tr th:only-of-type {\n",
       "        vertical-align: middle;\n",
       "    }\n",
       "\n",
       "    .dataframe tbody tr th {\n",
       "        vertical-align: top;\n",
       "    }\n",
       "\n",
       "    .dataframe thead th {\n",
       "        text-align: right;\n",
       "    }\n",
       "</style>\n",
       "<table border=\"1\" class=\"dataframe\">\n",
       "  <thead>\n",
       "    <tr style=\"text-align: right;\">\n",
       "      <th></th>\n",
       "      <th>fuelType</th>\n",
       "      <th>index</th>\n",
       "    </tr>\n",
       "  </thead>\n",
       "  <tbody>\n",
       "    <tr>\n",
       "      <th>3</th>\n",
       "      <td>Petrol</td>\n",
       "      <td>4087</td>\n",
       "    </tr>\n",
       "    <tr>\n",
       "      <th>1</th>\n",
       "      <td>Hybrid</td>\n",
       "      <td>2043</td>\n",
       "    </tr>\n",
       "    <tr>\n",
       "      <th>0</th>\n",
       "      <td>Diesel</td>\n",
       "      <td>503</td>\n",
       "    </tr>\n",
       "    <tr>\n",
       "      <th>2</th>\n",
       "      <td>Other</td>\n",
       "      <td>105</td>\n",
       "    </tr>\n",
       "  </tbody>\n",
       "</table>\n",
       "</div>"
      ],
      "text/plain": [
       "  fuelType  index\n",
       "3   Petrol   4087\n",
       "1   Hybrid   2043\n",
       "0   Diesel    503\n",
       "2    Other    105"
      ]
     },
     "execution_count": 8,
     "metadata": {},
     "output_type": "execute_result"
    }
   ],
   "source": [
    "ty_count_of_sales = ty.groupby(['fuelType'])['index'].agg('count').reset_index()\n",
    "ty_count_of_sales = ty_count_of_sales.sort_values('index', ascending=False)\n",
    "ty_count_of_sales.head()"
   ]
  },
  {
   "cell_type": "code",
   "execution_count": 9,
   "id": "34c40eaf",
   "metadata": {},
   "outputs": [
    {
     "data": {
      "image/png": "[encoded data removed]",
      "text/plain": [
       "<Figure size 720x360 with 1 Axes>"
      ]
     },
     "metadata": {
      "needs_background": "light"
     },
     "output_type": "display_data"
    }
   ],
   "source": [
    "#visualization of how sales differ\n",
    "\n",
    "plt.figure(figsize=(10,5))\n",
    "\n",
    "plt.bar(x=ty_count_of_sales['fuelType'],\n",
    "       height = ty_count_of_sales['index'],\n",
    "       label = \"count of used cars sold\",\n",
    "       color = \"grey\")\n",
    "plt.plot()\n",
    "\n",
    "plt.xlabel(\"Fuel Type\")\n",
    "plt.ylabel(\"count of used cars sold\")\n",
    "plt.title(\"How the sales differ between hybrid and other types\")\n",
    "\n",
    "plt.legend()\n",
    "plt.show()"
   ]
  },
  {
   "cell_type": "markdown",
   "id": "f389a562",
   "metadata": {},
   "source": [
    "**How sales differ among hybrid cars**\n",
    "\n",
    "Our primary goal is to find ways to make hybrid cars more appealing. This diagram shows that the Yaris, Auris, and C-HR are the top three hybrid cars sold, implying that these three car models can be used for major hybrid car campaigns."
   ]
  },
  {
   "cell_type": "code",
   "execution_count": 10,
   "id": "c925c515",
   "metadata": {},
   "outputs": [
    {
     "data": {
      "text/html": [
       "<div>\n",
       "<style scoped>\n",
       "    .dataframe tbody tr th:only-of-type {\n",
       "        vertical-align: middle;\n",
       "    }\n",
       "\n",
       "    .dataframe tbody tr th {\n",
       "        vertical-align: top;\n",
       "    }\n",
       "\n",
       "    .dataframe thead th {\n",
       "        text-align: right;\n",
       "    }\n",
       "</style>\n",
       "<table border=\"1\" class=\"dataframe\">\n",
       "  <thead>\n",
       "    <tr style=\"text-align: right;\">\n",
       "      <th></th>\n",
       "      <th>model</th>\n",
       "      <th>index</th>\n",
       "    </tr>\n",
       "  </thead>\n",
       "  <tbody>\n",
       "    <tr>\n",
       "      <th>6</th>\n",
       "      <td>Yaris</td>\n",
       "      <td>557</td>\n",
       "    </tr>\n",
       "    <tr>\n",
       "      <th>0</th>\n",
       "      <td>Auris</td>\n",
       "      <td>498</td>\n",
       "    </tr>\n",
       "    <tr>\n",
       "      <th>1</th>\n",
       "      <td>C-HR</td>\n",
       "      <td>352</td>\n",
       "    </tr>\n",
       "    <tr>\n",
       "      <th>5</th>\n",
       "      <td>RAV4</td>\n",
       "      <td>230</td>\n",
       "    </tr>\n",
       "    <tr>\n",
       "      <th>4</th>\n",
       "      <td>Prius</td>\n",
       "      <td>214</td>\n",
       "    </tr>\n",
       "  </tbody>\n",
       "</table>\n",
       "</div>"
      ],
      "text/plain": [
       "    model  index\n",
       "6   Yaris    557\n",
       "0   Auris    498\n",
       "1    C-HR    352\n",
       "5    RAV4    230\n",
       "4   Prius    214"
      ]
     },
     "execution_count": 10,
     "metadata": {},
     "output_type": "execute_result"
    }
   ],
   "source": [
    "ty_sales = ty[ty['fuelType'] == 'Hybrid'].groupby(['model'])['index'].agg('count').reset_index()\n",
    "ty_sales = ty_sales.sort_values('index', ascending=False)\n",
    "ty_sales.head()"
   ]
  },
  {
   "cell_type": "code",
   "execution_count": 22,
   "id": "83bc49d6",
   "metadata": {},
   "outputs": [
    {
     "data": {
      "image/png": "[encoded data removed]",
      "text/plain": [
       "<Figure size 720x360 with 1 Axes>"
      ]
     },
     "metadata": {
      "needs_background": "light"
     },
     "output_type": "display_data"
    }
   ],
   "source": [
    "plt.figure(figsize=(10, 5))\n",
    "\n",
    "plt.bar(x=ty_sales['model'],\n",
    "        height=ty_sales['index'],\n",
    "        label=\"Hybrid cars only\",\n",
    "        color=\"grey\")\n",
    "plt.plot()\n",
    "\n",
    "plt.xlabel(\"Model\")\n",
    "plt.ylabel(\"Count of hybrid cars sold\")\n",
    "plt.title(\"How the sales differ among hybrid cars\")\n",
    "\n",
    "plt.legend()\n",
    "plt.show()"
   ]
  },
  {
   "cell_type": "markdown",
   "id": "fe949ae6",
   "metadata": {},
   "source": [
    "**Price ranges of different hybrid cars models**\n",
    "\n",
    "Some Yaris and Auris car models are sold for less than 10,000 GBP, which is nearly the same price as some petrol-type car models and can compete in the market. These car models should be considered for the hybrid car marketing campaign for people who are concerned about how expensive hybrid cars are. These vehicles can be used to encourage people to try hybrid cars."
   ]
  },
  {
   "cell_type": "code",
   "execution_count": 20,
   "id": "46a88260",
   "metadata": {},
   "outputs": [
    {
     "data": {
      "image/png": "[encoded data removed]",
      "text/plain": [
       "<Figure size 720x432 with 1 Axes>"
      ]
     },
     "metadata": {
      "needs_background": "light"
     },
     "output_type": "display_data"
    }
   ],
   "source": [
    "import seaborn as sns\n",
    "\n",
    "# Create a new figure with a larger size\n",
    "plt.figure(figsize=(10, 6))\n",
    "\n",
    "# Create the box plot using sns.boxplot()\n",
    "sns.boxplot(x='model', y='price', data=ty[ty['fuelType'] == 'Hybrid'], palette='gray')\n",
    "\n",
    "plt.xlabel(\"Model\")\n",
    "plt.ylabel(\"Price of used cars sold\")\n",
    "plt.title(\"How the prices differ among hybrid cars\")\n",
    "\n",
    "plt.show()"
   ]
  },
  {
   "cell_type": "markdown",
   "id": "f6e0753a",
   "metadata": {},
   "source": [
    "**How much different fuel types pay in road tax**\n",
    "\n",
    "The tax is another piece of information that draws attention to me. Petrol cars pay more tax than hybrid cars; most hybrid cars pay as little as 0 GBP to less than 200 GBP, whereas petrol cars pay as much as 300 GBP. The marketing team can use this as a promotion to persuade customers to purchase hybrid cars. "
   ]
  },
  {
   "cell_type": "code",
   "execution_count": 15,
   "id": "382eeb7d",
   "metadata": {},
   "outputs": [
    {
     "name": "stdout",
     "output_type": "stream",
     "text": [
      "  fuelType  tax  count\n",
      "0   Diesel    0     27\n",
      "1   Diesel   20     57\n",
      "2   Diesel   30     42\n",
      "3   Diesel  125     88\n",
      "4   Diesel  140      1\n"
     ]
    }
   ],
   "source": [
    "ty_by_fuel_tax = ty.groupby(['fuelType', 'tax']).agg({'index': 'count'}).reset_index()\n",
    "ty_by_fuel_tax.columns = ['fuelType', 'tax', 'count']\n",
    "\n",
    "print(ty_by_fuel_tax.head())"
   ]
  },
  {
   "cell_type": "code",
   "execution_count": 18,
   "id": "c6d9d26e",
   "metadata": {},
   "outputs": [
    {
     "data": {
      "image/png": "[encoded data removed]",
      "text/plain": [
       "<Figure size 1080x432 with 1 Axes>"
      ]
     },
     "metadata": {
      "needs_background": "light"
     },
     "output_type": "display_data"
    }
   ],
   "source": [
    "plt.figure(figsize=(15, 6))\n",
    "\n",
    "sns.scatterplot(x='tax', y='count', data=ty_by_fuel_tax, hue='fuelType')\n",
    "\n",
    "plt.xlabel(\"Road tax in GBP\")\n",
    "plt.ylabel(\"Count of cars sold\")\n",
    "plt.title(\"How much paid in road tax by fuel types\")\n",
    "\n",
    "plt.show()"
   ]
  },
  {
   "cell_type": "code",
   "execution_count": null,
   "id": "6bc95ac9",
   "metadata": {},
   "outputs": [],
   "source": []
  }
 ],
 "metadata": {
  "kernelspec": {
   "display_name": "Python 3 (ipykernel)",
   "language": "python",
   "name": "python3"
  },
  "language_info": {
   "codemirror_mode": {
    "name": "ipython",
    "version": 3
   },
   "file_extension": ".py",
   "mimetype": "text/x-python",
   "name": "python",
   "nbconvert_exporter": "python",
   "pygments_lexer": "ipython3",
   "version": "3.9.12"
  }
 },
 "nbformat": 4,
 "nbformat_minor": 5
}
